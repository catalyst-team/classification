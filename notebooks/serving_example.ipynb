{
 "cells": [
  {
   "cell_type": "code",
   "execution_count": 1,
   "metadata": {},
   "outputs": [
    {
     "name": "stdout",
     "output_type": "stream",
     "text": [
      "image:  (96, 128, 3)\n",
      "class2tag:  {0: 'ants', 1: 'bees'}\n",
      "input_t:  torch.Size([1, 3, 224, 224])\n",
      "output_t:  torch.Size([2])\n",
      "result:  ants\n"
     ]
    }
   ],
   "source": [
    "import json\n",
    "import numpy as np\n",
    "import cv2\n",
    "import torch\n",
    "from catalyst import utils\n",
    "from albumentations import Compose, Normalize, LongestMaxSize, PadIfNeeded\n",
    "from albumentations.torch import ToTensor\n",
    "\n",
    "# serving load\n",
    "model = torch.jit.load(\"./logs/serving-190906-174504-3N/model.pth\")\n",
    "image: np.ndarray = utils.imread(\"./logs/dataset/images/ants/132478121_2a430adea2.jpg\")\n",
    "with open(\"./logs/serving-190906-174504-3N/tag2class.json\") as fin:\n",
    "    tag2class = json.load(fin)\n",
    "    class2tag = {v: k for k, v in tag2class.items()}\n",
    "\n",
    "print(\"image: \", image.shape)\n",
    "print(\"class2tag: \", class2tag)\n",
    "\n",
    "# serving preprocessing\n",
    "transofrm = Compose([\n",
    "    LongestMaxSize(max_size=224),\n",
    "    PadIfNeeded(\n",
    "        224, 224, border_mode=cv2.BORDER_CONSTANT\n",
    "    ),\n",
    "    Normalize(), \n",
    "    ToTensor()\n",
    "])\n",
    "\n",
    "# serving prediction\n",
    "input_t = transofrm(image=image)[\"image\"].unsqueeze_(0)\n",
    "print(\"input_t: \", input_t.shape)\n",
    "output_t = model(input_t).squeeze_(0)\n",
    "print(\"output_t: \", output_t.shape)\n",
    "\n",
    "# serving result\n",
    "tag = class2tag[output_t.argmax().item()]\n",
    "print(\"result: \", tag)"
   ]
  },
  {
   "cell_type": "code",
   "execution_count": null,
   "metadata": {},
   "outputs": [],
   "source": []
  }
 ],
 "metadata": {
    "kernelspec": {
      "display_name": "Python 3",
      "language": "python",
      "name": "python3"
    },
    "language_info": {
      "codemirror_mode": {
        "name": "ipython",
        "version": 3
      },
      "file_extension": ".py",
      "mimetype": "text/x-python",
      "name": "python",
      "nbconvert_exporter": "python",
      "pygments_lexer": "ipython3",
      "version": "3.7.0"
    }
  },
 "nbformat": 4,
 "nbformat_minor": 2
}
